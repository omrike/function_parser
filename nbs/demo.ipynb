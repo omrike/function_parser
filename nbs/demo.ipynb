{
 "cells": [
  {
   "cell_type": "code",
   "execution_count": 1,
   "metadata": {},
   "outputs": [
    {
     "name": "stdout",
     "output_type": "stream",
     "text": [
      "Requirement already satisfied: tree-sitter in c:\\users\\omrik\\documents\\semester_7\\data augmentation project\\function_parser\\venv\\lib\\site-packages (0.19.0)\n"
     ]
    }
   ],
   "source": [
    "! pip install tree-sitter"
   ]
  },
  {
   "cell_type": "code",
   "execution_count": 2,
   "metadata": {},
   "outputs": [],
   "source": [
    "import function_parser\n",
    "\n",
    "import pandas as pd\n",
    "\n",
    "from function_parser.language_data import LANGUAGE_METADATA\n",
    "from function_parser.process import DataProcessor\n",
    "from tree_sitter import Language"
   ]
  },
  {
   "cell_type": "code",
   "execution_count": 3,
   "metadata": {},
   "outputs": [],
   "source": [
    "language = 'python'"
   ]
  },
  {
   "cell_type": "code",
   "execution_count": 5,
   "outputs": [
    {
     "name": "stdout",
     "output_type": "stream",
     "text": [
      "C:\\Users\\omrik\\Documents\\semester_7\\Data Augmentation Project\\function_parser\\tree-sitter-python\n"
     ]
    },
    {
     "name": "stderr",
     "output_type": "stream",
     "text": [
      "Cloning into 'tree-sitter-python'...\n",
      "HEAD is now at 79e0147 0.19.0\n"
     ]
    }
   ],
   "source": [
    "! git clone https://github.com/tree-sitter/tree-sitter-python.git\n",
    "%cd C:/Users/omrik/Documents/semester_7/Data Augmentation Project/function_parser/tree-sitter-python\n",
    "! git checkout tags/v0.19.0"
   ],
   "metadata": {
    "collapsed": false,
    "pycharm": {
     "name": "#%%\n"
    }
   }
  },
  {
   "cell_type": "code",
   "execution_count": 6,
   "metadata": {},
   "outputs": [
    {
     "data": {
      "text/plain": "True"
     },
     "execution_count": 6,
     "metadata": {},
     "output_type": "execute_result"
    }
   ],
   "source": [
    "Language.build_library(\n",
    "    # Store the library in the directory\n",
    "    'tree-sitter-languages.so',\n",
    "    # Include one or more languages\n",
    "    [\n",
    "        'C:/Users/omrik/Documents/semester_7/Data Augmentation Project/function_parser/tree-sitter-python',\n",
    "    ]\n",
    ")"
   ]
  },
  {
   "cell_type": "code",
   "execution_count": 7,
   "metadata": {},
   "outputs": [],
   "source": [
    "DataProcessor.PARSER.set_language(Language('C:/Users/omrik/Documents/semester_7/Data Augmentation Project/function_parser/nbs' + '/tree-sitter-languages.so', language))\n",
    "\n",
    "processor = DataProcessor(language=language,\n",
    "                          language_parser=LANGUAGE_METADATA[language]['language_parser'])"
   ]
  },
  {
   "cell_type": "code",
   "execution_count": 13,
   "metadata": {},
   "outputs": [],
   "source": [
    "dependee = 'keras-team/keras'"
   ]
  },
  {
   "cell_type": "code",
   "execution_count": 16,
   "metadata": {},
   "outputs": [
    {
     "ename": "TypeError",
     "evalue": "unhashable type: 'tree_sitter.Node'",
     "output_type": "error",
     "traceback": [
      "\u001B[1;31m---------------------------------------------------------------------------\u001B[0m",
      "\u001B[1;31mTypeError\u001B[0m                                 Traceback (most recent call last)",
      "\u001B[1;32m~\\AppData\\Local\\Temp/ipykernel_12656/1823821206.py\u001B[0m in \u001B[0;36m<module>\u001B[1;34m\u001B[0m\n\u001B[1;32m----> 1\u001B[1;33m \u001B[0mdefinitions\u001B[0m \u001B[1;33m=\u001B[0m \u001B[0mprocessor\u001B[0m\u001B[1;33m.\u001B[0m\u001B[0mprocess_dee\u001B[0m\u001B[1;33m(\u001B[0m\u001B[0mdependee\u001B[0m\u001B[1;33m,\u001B[0m \u001B[0mext\u001B[0m\u001B[1;33m=\u001B[0m\u001B[0mLANGUAGE_METADATA\u001B[0m\u001B[1;33m[\u001B[0m\u001B[0mlanguage\u001B[0m\u001B[1;33m]\u001B[0m\u001B[1;33m[\u001B[0m\u001B[1;34m'ext'\u001B[0m\u001B[1;33m]\u001B[0m\u001B[1;33m)\u001B[0m\u001B[1;33m\u001B[0m\u001B[1;33m\u001B[0m\u001B[0m\n\u001B[0m\u001B[0;32m      2\u001B[0m \u001B[1;33m\u001B[0m\u001B[0m\n",
      "\u001B[1;32m~\\Documents\\semester_7\\Data Augmentation Project\\function_parser\\function_parser\\process.py\u001B[0m in \u001B[0;36mprocess_dee\u001B[1;34m(self, nwo, ext)\u001B[0m\n\u001B[0;32m     46\u001B[0m \u001B[1;33m\u001B[0m\u001B[0m\n\u001B[0;32m     47\u001B[0m         \u001B[1;32mfor\u001B[0m \u001B[0mf\u001B[0m \u001B[1;32min\u001B[0m \u001B[0mfiles\u001B[0m\u001B[1;33m:\u001B[0m\u001B[1;33m\u001B[0m\u001B[1;33m\u001B[0m\u001B[0m\n\u001B[1;32m---> 48\u001B[1;33m             \u001B[0mdefinitions\u001B[0m \u001B[1;33m=\u001B[0m \u001B[0mself\u001B[0m\u001B[1;33m.\u001B[0m\u001B[0mget_function_definitions\u001B[0m\u001B[1;33m(\u001B[0m\u001B[0mf\u001B[0m\u001B[1;33m)\u001B[0m\u001B[1;33m\u001B[0m\u001B[1;33m\u001B[0m\u001B[0m\n\u001B[0m\u001B[0;32m     49\u001B[0m             \u001B[1;32mif\u001B[0m \u001B[0mdefinitions\u001B[0m \u001B[1;32mis\u001B[0m \u001B[1;32mNone\u001B[0m\u001B[1;33m:\u001B[0m\u001B[1;33m\u001B[0m\u001B[1;33m\u001B[0m\u001B[0m\n\u001B[0;32m     50\u001B[0m                 \u001B[1;32mcontinue\u001B[0m\u001B[1;33m\u001B[0m\u001B[1;33m\u001B[0m\u001B[0m\n",
      "\u001B[1;32m~\\Documents\\semester_7\\Data Augmentation Project\\function_parser\\function_parser\\process.py\u001B[0m in \u001B[0;36mget_function_definitions\u001B[1;34m(self, filepath)\u001B[0m\n\u001B[0;32m    163\u001B[0m                 \u001B[0mblob\u001B[0m \u001B[1;33m=\u001B[0m \u001B[0msource_code\u001B[0m\u001B[1;33m.\u001B[0m\u001B[0mread\u001B[0m\u001B[1;33m(\u001B[0m\u001B[1;33m)\u001B[0m\u001B[1;33m\u001B[0m\u001B[1;33m\u001B[0m\u001B[0m\n\u001B[0;32m    164\u001B[0m             \u001B[0mtree\u001B[0m \u001B[1;33m=\u001B[0m \u001B[0mDataProcessor\u001B[0m\u001B[1;33m.\u001B[0m\u001B[0mPARSER\u001B[0m\u001B[1;33m.\u001B[0m\u001B[0mparse\u001B[0m\u001B[1;33m(\u001B[0m\u001B[0mblob\u001B[0m\u001B[1;33m.\u001B[0m\u001B[0mencode\u001B[0m\u001B[1;33m(\u001B[0m\u001B[1;33m)\u001B[0m\u001B[1;33m)\u001B[0m\u001B[1;33m\u001B[0m\u001B[1;33m\u001B[0m\u001B[0m\n\u001B[1;32m--> 165\u001B[1;33m             \u001B[1;32mreturn\u001B[0m \u001B[1;33m(\u001B[0m\u001B[0mnwo\u001B[0m\u001B[1;33m,\u001B[0m \u001B[0mpath\u001B[0m\u001B[1;33m,\u001B[0m \u001B[0mself\u001B[0m\u001B[1;33m.\u001B[0m\u001B[0mlanguage_parser\u001B[0m\u001B[1;33m.\u001B[0m\u001B[0mget_definition\u001B[0m\u001B[1;33m(\u001B[0m\u001B[0mtree\u001B[0m\u001B[1;33m,\u001B[0m \u001B[0mblob\u001B[0m\u001B[1;33m)\u001B[0m\u001B[1;33m)\u001B[0m\u001B[1;33m\u001B[0m\u001B[1;33m\u001B[0m\u001B[0m\n\u001B[0m\u001B[0;32m    166\u001B[0m         \u001B[1;32mexcept\u001B[0m \u001B[1;33m(\u001B[0m\u001B[0mUnicodeDecodeError\u001B[0m\u001B[1;33m,\u001B[0m \u001B[0mFileNotFoundError\u001B[0m\u001B[1;33m,\u001B[0m \u001B[0mIsADirectoryError\u001B[0m\u001B[1;33m,\u001B[0m \u001B[0mValueError\u001B[0m\u001B[1;33m,\u001B[0m \u001B[0mOSError\u001B[0m\u001B[1;33m)\u001B[0m\u001B[1;33m:\u001B[0m\u001B[1;33m\u001B[0m\u001B[1;33m\u001B[0m\u001B[0m\n\u001B[0;32m    167\u001B[0m             \u001B[1;32mreturn\u001B[0m \u001B[1;32mNone\u001B[0m\u001B[1;33m\u001B[0m\u001B[1;33m\u001B[0m\u001B[0m\n",
      "\u001B[1;32m~\\Documents\\semester_7\\Data Augmentation Project\\function_parser\\function_parser\\parsers\\python_parser.py\u001B[0m in \u001B[0;36mget_definition\u001B[1;34m(tree, blob)\u001B[0m\n\u001B[0;32m    190\u001B[0m         \u001B[0mclasses\u001B[0m \u001B[1;33m=\u001B[0m \u001B[1;33m(\u001B[0m\u001B[0mnode\u001B[0m \u001B[1;32mfor\u001B[0m \u001B[0mnode\u001B[0m \u001B[1;32min\u001B[0m \u001B[0mtree\u001B[0m\u001B[1;33m.\u001B[0m\u001B[0mroot_node\u001B[0m\u001B[1;33m.\u001B[0m\u001B[0mchildren\u001B[0m \u001B[1;32mif\u001B[0m \u001B[0mnode\u001B[0m\u001B[1;33m.\u001B[0m\u001B[0mtype\u001B[0m \u001B[1;33m==\u001B[0m \u001B[1;34m'class_definition'\u001B[0m\u001B[1;33m)\u001B[0m\u001B[1;33m\u001B[0m\u001B[1;33m\u001B[0m\u001B[0m\n\u001B[0;32m    191\u001B[0m \u001B[1;33m\u001B[0m\u001B[0m\n\u001B[1;32m--> 192\u001B[1;33m         \u001B[0mdefinitions\u001B[0m \u001B[1;33m=\u001B[0m \u001B[0mlist\u001B[0m\u001B[1;33m(\u001B[0m\u001B[0mPythonParser\u001B[0m\u001B[1;33m.\u001B[0m\u001B[0m__process_functions\u001B[0m\u001B[1;33m(\u001B[0m\u001B[0mfunctions\u001B[0m\u001B[1;33m,\u001B[0m \u001B[0mblob\u001B[0m\u001B[1;33m)\u001B[0m\u001B[1;33m)\u001B[0m\u001B[1;33m\u001B[0m\u001B[1;33m\u001B[0m\u001B[0m\n\u001B[0m\u001B[0;32m    193\u001B[0m \u001B[1;33m\u001B[0m\u001B[0m\n\u001B[0;32m    194\u001B[0m         \u001B[1;32mfor\u001B[0m \u001B[0m_class\u001B[0m \u001B[1;32min\u001B[0m \u001B[0mclasses\u001B[0m\u001B[1;33m:\u001B[0m\u001B[1;33m\u001B[0m\u001B[1;33m\u001B[0m\u001B[0m\n",
      "\u001B[1;32m~\\Documents\\semester_7\\Data Augmentation Project\\function_parser\\function_parser\\parsers\\python_parser.py\u001B[0m in \u001B[0;36m__process_functions\u001B[1;34m(functions, blob, func_identifier_scope)\u001B[0m\n\u001B[0;32m    169\u001B[0m             \u001B[0mfunction_metadata\u001B[0m\u001B[1;33m[\u001B[0m\u001B[1;34m'docstring_summary'\u001B[0m\u001B[1;33m]\u001B[0m \u001B[1;33m=\u001B[0m \u001B[0mget_docstring_summary\u001B[0m\u001B[1;33m(\u001B[0m\u001B[0mfunction_metadata\u001B[0m\u001B[1;33m[\u001B[0m\u001B[1;34m'docstring'\u001B[0m\u001B[1;33m]\u001B[0m\u001B[1;33m)\u001B[0m\u001B[1;33m\u001B[0m\u001B[1;33m\u001B[0m\u001B[0m\n\u001B[0;32m    170\u001B[0m             \u001B[0mfunction_metadata\u001B[0m\u001B[1;33m[\u001B[0m\u001B[1;34m'function'\u001B[0m\u001B[1;33m]\u001B[0m \u001B[1;33m=\u001B[0m \u001B[0mmatch_from_span\u001B[0m\u001B[1;33m(\u001B[0m\u001B[0mfunction_node\u001B[0m\u001B[1;33m,\u001B[0m \u001B[0mblob\u001B[0m\u001B[1;33m)\u001B[0m\u001B[1;33m\u001B[0m\u001B[1;33m\u001B[0m\u001B[0m\n\u001B[1;32m--> 171\u001B[1;33m             \u001B[0mfunction_metadata\u001B[0m\u001B[1;33m[\u001B[0m\u001B[1;34m'function_tokens'\u001B[0m\u001B[1;33m]\u001B[0m \u001B[1;33m=\u001B[0m \u001B[0mtokenize_code\u001B[0m\u001B[1;33m(\u001B[0m\u001B[0mfunction_node\u001B[0m\u001B[1;33m,\u001B[0m \u001B[0mblob\u001B[0m\u001B[1;33m,\u001B[0m \u001B[1;33m{\u001B[0m\u001B[0mdocstring_node\u001B[0m\u001B[1;33m}\u001B[0m\u001B[1;33m)\u001B[0m\u001B[1;33m\u001B[0m\u001B[1;33m\u001B[0m\u001B[0m\n\u001B[0m\u001B[0;32m    172\u001B[0m             \u001B[0mfunction_metadata\u001B[0m\u001B[1;33m[\u001B[0m\u001B[1;34m'start_point'\u001B[0m\u001B[1;33m]\u001B[0m \u001B[1;33m=\u001B[0m \u001B[0mfunction_node\u001B[0m\u001B[1;33m.\u001B[0m\u001B[0mstart_point\u001B[0m\u001B[1;33m\u001B[0m\u001B[1;33m\u001B[0m\u001B[0m\n\u001B[0;32m    173\u001B[0m             \u001B[0mfunction_metadata\u001B[0m\u001B[1;33m[\u001B[0m\u001B[1;34m'end_point'\u001B[0m\u001B[1;33m]\u001B[0m \u001B[1;33m=\u001B[0m \u001B[0mfunction_node\u001B[0m\u001B[1;33m.\u001B[0m\u001B[0mend_point\u001B[0m\u001B[1;33m\u001B[0m\u001B[1;33m\u001B[0m\u001B[0m\n",
      "\u001B[1;32m~\\Documents\\semester_7\\Data Augmentation Project\\function_parser\\function_parser\\parsers\\language_parser.py\u001B[0m in \u001B[0;36mtokenize_code\u001B[1;34m(node, blob, nodes_to_exclude)\u001B[0m\n\u001B[0;32m     13\u001B[0m     \u001B[0mtokens\u001B[0m \u001B[1;33m=\u001B[0m \u001B[1;33m[\u001B[0m\u001B[1;33m]\u001B[0m\u001B[1;33m\u001B[0m\u001B[1;33m\u001B[0m\u001B[0m\n\u001B[0;32m     14\u001B[0m     \u001B[0mprint\u001B[0m\u001B[1;33m(\u001B[0m\u001B[1;34m\"hi\"\u001B[0m\u001B[1;33m)\u001B[0m\u001B[1;33m\u001B[0m\u001B[1;33m\u001B[0m\u001B[0m\n\u001B[1;32m---> 15\u001B[1;33m     \u001B[0mprint\u001B[0m\u001B[1;33m(\u001B[0m\u001B[0mnode\u001B[0m\u001B[1;33m)\u001B[0m\u001B[1;33m\u001B[0m\u001B[1;33m\u001B[0m\u001B[0m\n\u001B[0m\u001B[0;32m     16\u001B[0m     \u001B[1;31m# traverse(node, tokens)\u001B[0m\u001B[1;33m\u001B[0m\u001B[1;33m\u001B[0m\u001B[1;33m\u001B[0m\u001B[0m\n\u001B[0;32m     17\u001B[0m     \u001B[1;32mreturn\u001B[0m \u001B[1;33m[\u001B[0m\u001B[1;33m]\u001B[0m \u001B[1;31m#[match_from_span(token, blob) for token in tokens if nodes_to_exclude is None or token not in nodes_to_exclude]\u001B[0m\u001B[1;33m\u001B[0m\u001B[1;33m\u001B[0m\u001B[0m\n",
      "\u001B[1;32m~\\Documents\\semester_7\\Data Augmentation Project\\function_parser\\function_parser\\parsers\\language_parser.py\u001B[0m in \u001B[0;36m<listcomp>\u001B[1;34m(.0)\u001B[0m\n\u001B[0;32m     13\u001B[0m     \u001B[0mtokens\u001B[0m \u001B[1;33m=\u001B[0m \u001B[1;33m[\u001B[0m\u001B[1;33m]\u001B[0m\u001B[1;33m\u001B[0m\u001B[1;33m\u001B[0m\u001B[0m\n\u001B[0;32m     14\u001B[0m     \u001B[0mprint\u001B[0m\u001B[1;33m(\u001B[0m\u001B[1;34m\"hi\"\u001B[0m\u001B[1;33m)\u001B[0m\u001B[1;33m\u001B[0m\u001B[1;33m\u001B[0m\u001B[0m\n\u001B[1;32m---> 15\u001B[1;33m     \u001B[0mprint\u001B[0m\u001B[1;33m(\u001B[0m\u001B[0mnode\u001B[0m\u001B[1;33m)\u001B[0m\u001B[1;33m\u001B[0m\u001B[1;33m\u001B[0m\u001B[0m\n\u001B[0m\u001B[0;32m     16\u001B[0m     \u001B[1;31m# traverse(node, tokens)\u001B[0m\u001B[1;33m\u001B[0m\u001B[1;33m\u001B[0m\u001B[1;33m\u001B[0m\u001B[0m\n\u001B[0;32m     17\u001B[0m     \u001B[1;32mreturn\u001B[0m \u001B[1;33m[\u001B[0m\u001B[1;33m]\u001B[0m \u001B[1;31m#[match_from_span(token, blob) for token in tokens if nodes_to_exclude is None or token not in nodes_to_exclude]\u001B[0m\u001B[1;33m\u001B[0m\u001B[1;33m\u001B[0m\u001B[0m\n",
      "\u001B[1;31mTypeError\u001B[0m: unhashable type: 'tree_sitter.Node'"
     ]
    }
   ],
   "source": [
    "definitions = processor.process_dee(dependee, ext=LANGUAGE_METADATA[language]['ext'])"
   ]
  },
  {
   "cell_type": "code",
   "execution_count": null,
   "metadata": {},
   "outputs": [],
   "source": [
    "pd.DataFrame(definitions).head()"
   ]
  },
  {
   "cell_type": "code",
   "execution_count": null,
   "metadata": {},
   "outputs": [],
   "source": [
    "library_candidates = {}\n",
    "library_candidates[dependee.split('/')[-1]] = definitions"
   ]
  },
  {
   "cell_type": "code",
   "execution_count": null,
   "metadata": {},
   "outputs": [],
   "source": [
    "dependent = dependee#'eriklindernoren/Keras-GAN'"
   ]
  },
  {
   "cell_type": "code",
   "execution_count": null,
   "metadata": {},
   "outputs": [],
   "source": [
    "# Generate approximate call graph\n",
    "calls, edges = processor.process_dent(dependent, ext=LANGUAGE_METADATA[language]['ext'], library_candidates=library_candidates)"
   ]
  },
  {
   "cell_type": "code",
   "execution_count": null,
   "metadata": {},
   "outputs": [],
   "source": [
    "edges[-5:]"
   ]
  },
  {
   "cell_type": "code",
   "execution_count": null,
   "metadata": {},
   "outputs": [],
   "source": [
    "pd.DataFrame(calls).head()"
   ]
  },
  {
   "cell_type": "code",
   "execution_count": null,
   "metadata": {},
   "outputs": [],
   "source": [
    "edges"
   ]
  },
  {
   "cell_type": "code",
   "execution_count": null,
   "metadata": {},
   "outputs": [],
   "source": []
  }
 ],
 "metadata": {
  "kernelspec": {
   "display_name": "Python 3 (ipykernel)",
   "language": "python",
   "name": "python3"
  },
  "language_info": {
   "codemirror_mode": {
    "name": "ipython",
    "version": 3
   },
   "file_extension": ".py",
   "mimetype": "text/x-python",
   "name": "python",
   "nbconvert_exporter": "python",
   "pygments_lexer": "ipython3",
   "version": "3.7.4"
  }
 },
 "nbformat": 4,
 "nbformat_minor": 2
}